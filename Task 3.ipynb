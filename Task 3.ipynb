{
 "cells": [
  {
   "cell_type": "markdown",
   "metadata": {},
   "source": [
    "Task 3"
   ]
  },
  {
   "cell_type": "code",
   "execution_count": 8,
   "metadata": {
    "scrolled": true
   },
   "outputs": [
    {
     "name": "stdout",
     "output_type": "stream",
     "text": [
      "data.processed_data.pkl\t\t   model_list.json\r\n",
      "en_stem_pos_LDAvis_prepared6\t   README.md\r\n",
      "en_stem_pos_LDAvis_prepared6.html  stem_pos_ldavis_prepared_6\r\n",
      "ldavis_prepared_6\t\t   train_tweets.csv\r\n",
      "ldavis_prepared_6.html\t\t   train_tweets.ods\r\n",
      "LICENSE\t\t\t\t   twitter_sentiment_analysis-Chatbot.ipynb\r\n",
      "mb.csv\t\t\t\t   twitter_sentiment_analysis-Copy3.ipynb\r\n",
      "model_list-Copy1.json\t\t   ulmfit.ipynb\r\n"
     ]
    }
   ],
   "source": [
    "!ls"
   ]
  },
  {
   "cell_type": "code",
   "execution_count": 11,
   "metadata": {},
   "outputs": [],
   "source": [
    "import pickle\n",
    "processed_data=None\n",
    "with open(\"data.processed_data.pkl\",\"rb\") as f:\n",
    "    processed_data = pickle.load(f)"
   ]
  },
  {
   "cell_type": "code",
   "execution_count": 9,
   "metadata": {},
   "outputs": [],
   "source": [
    "train_orig = pd.read_csv(\"train_tweets.csv\")"
   ]
  },
  {
   "cell_type": "code",
   "execution_count": 12,
   "metadata": {},
   "outputs": [],
   "source": [
    "processed_data[\"user_type\"]=train_orig[\"user_type\"]"
   ]
  },
  {
   "cell_type": "code",
   "execution_count": 15,
   "metadata": {},
   "outputs": [],
   "source": [
    "processed_data[\"user_type\"]=processed_data[\"user_type\"].fillna(0)"
   ]
  },
  {
   "cell_type": "code",
   "execution_count": 16,
   "metadata": {},
   "outputs": [],
   "source": [
    "processed_data[\"user_type\"] = processed_data[\"user_type\"].astype(int)\n"
   ]
  },
  {
   "cell_type": "code",
   "execution_count": 17,
   "metadata": {},
   "outputs": [
    {
     "name": "stdout",
     "output_type": "stream",
     "text": [
      "CPU\n",
      "PyTorch version:  1.2.0\n"
     ]
    }
   ],
   "source": [
    "# Check that the latest 1.0.0 build of PyTorch has been installed \n",
    "# alongside fastai\n",
    "import torch\n",
    "print(\"Cuda available\" if torch.cuda.is_available() is True else \"CPU\")\n",
    "print(\"PyTorch version: \", torch.__version__)"
   ]
  },
  {
   "cell_type": "code",
   "execution_count": 19,
   "metadata": {},
   "outputs": [
    {
     "data": {
      "image/png": "[encoded data removed]",
      "text/plain": [
       "<Figure size 432x288 with 1 Axes>"
      ]
     },
     "metadata": {
      "needs_background": "light"
     },
     "output_type": "display_data"
    }
   ],
   "source": [
    "# Plot value counts for rach stance in the dataset\n",
    "processed_data[processed_data[\"user_type\"]!=0][\"user_type\"].value_counts().plot.bar(rot=30);"
   ]
  },
  {
   "cell_type": "code",
   "execution_count": 25,
   "metadata": {},
   "outputs": [
    {
     "data": {
      "text/plain": [
       "Index(['id', 'conversation_id', 'created_at', 'date', 'time', 'timezone',\n",
       "       'user_id', 'username', 'name', 'place', 'tweet', 'mentions', 'urls',\n",
       "       'photos', 'replies_count', 'retweets_count', 'likes_count', 'location',\n",
       "       'hashtags', 'cashtags', 'link', 'retweet', 'quote_url', 'video',\n",
       "       'profile_image_url', 'lang', 'SentimentText', 'tokenized_text',\n",
       "       'stem_tokenized_text', 'neg', 'neu', 'pos', 'compound', 'user_type'],\n",
       "      dtype='object')"
      ]
     },
     "execution_count": 25,
     "metadata": {},
     "output_type": "execute_result"
    }
   ],
   "source": [
    "processed_data[processed_data[\"user_type\"]!=0].columns"
   ]
  },
  {
   "cell_type": "code",
   "execution_count": 26,
   "metadata": {},
   "outputs": [
    {
     "data": {
      "text/plain": [
       "(19, 347)"
      ]
     },
     "execution_count": 26,
     "metadata": {},
     "output_type": "execute_result"
    }
   ],
   "source": [
    "from sklearn.feature_extraction.text import CountVectorizer\n",
    "count_vect = CountVectorizer()\n",
    "X_train_counts = count_vect.fit_transform(processed_data[processed_data[\"user_type\"]!=0].tweet)\n",
    "X_train_counts.shape\n",
    "# TF-IDF\n",
    "from sklearn.feature_extraction.text import TfidfTransformer\n",
    "tfidf_transformer = TfidfTransformer()\n",
    "X_train_tfidf = tfidf_transformer.fit_transform(X_train_counts)\n",
    "X_train_tfidf.shape"
   ]
  },
  {
   "cell_type": "code",
   "execution_count": 27,
   "metadata": {},
   "outputs": [],
   "source": [
    "y=processed_data[processed_data[\"user_type\"]!=0].user_type\n",
    "# Machine Learning\n",
    "# Training Naive Bayes (NB) classifier on training data.\n",
    "from sklearn.naive_bayes import MultinomialNB\n",
    "clf = MultinomialNB().fit(X_train_tfidf, y)"
   ]
  },
  {
   "cell_type": "code",
   "execution_count": 31,
   "metadata": {},
   "outputs": [
    {
     "data": {
      "text/plain": [
       "1.0"
      ]
     },
     "execution_count": 31,
     "metadata": {},
     "output_type": "execute_result"
    }
   ],
   "source": [
    "from sklearn.pipeline import Pipeline\n",
    "\n",
    "text_clf = Pipeline([('vect', CountVectorizer()), ('tfidf', TfidfTransformer()), ('clf', MultinomialNB())])\n",
    "\n",
    "text_clf = text_clf.fit(processed_data[processed_data[\"user_type\"]!=0].tweet, y)\n",
    "\n",
    "\n",
    "# Performance of NB Classifier\n",
    "import numpy as np\n",
    "predicted = text_clf.predict(processed_data[processed_data[\"user_type\"]!=0].tweet)\n",
    "np.mean(predicted == y)"
   ]
  },
  {
   "cell_type": "code",
   "execution_count": 47,
   "metadata": {},
   "outputs": [],
   "source": [
    "nb_predicted = text_clf.predict(processed_data[processed_data[\"user_type\"]==0].tweet)"
   ]
  },
  {
   "cell_type": "code",
   "execution_count": 79,
   "metadata": {},
   "outputs": [
    {
     "name": "stderr",
     "output_type": "stream",
     "text": [
      "/home/zhanwang/anaconda3/lib/python3.7/site-packages/sklearn/svm/base.py:193: FutureWarning: The default value of gamma will change from 'auto' to 'scale' in version 0.22 to account better for unscaled features. Set gamma explicitly to 'auto' or 'scale' to avoid this warning.\n",
      "  \"avoid this warning.\", FutureWarning)\n"
     ]
    }
   ],
   "source": [
    "\n",
    "from sklearn.linear_model import SGDClassifier\n",
    "from sklearn.svm import SVC\n",
    "text_clf_svm = Pipeline([('vect', CountVectorizer()), ('tfidf', TfidfTransformer()),\n",
    "                         ('clf-svm', SVC(probability = True))])\n",
    "\n",
    "text_clf_svm = text_clf_svm.fit(processed_data[processed_data[\"user_type\"]!=0].tweet, y)\n",
    "predicted_svm = text_clf_svm.predict(processed_data[processed_data[\"user_type\"]==0].tweet)"
   ]
  },
  {
   "cell_type": "code",
   "execution_count": 80,
   "metadata": {},
   "outputs": [],
   "source": [
    "predicted_svm_proba = text_clf_svm.predict_proba(processed_data[processed_data[\"user_type\"]==0].tweet)"
   ]
  },
  {
   "cell_type": "code",
   "execution_count": 92,
   "metadata": {},
   "outputs": [
    {
     "ename": "TypeError",
     "evalue": "'numpy.ndarray' object is not callable",
     "output_type": "error",
     "traceback": [
      "\u001b[0;31m---------------------------------------------------------------------------\u001b[0m",
      "\u001b[0;31mTypeError\u001b[0m                                 Traceback (most recent call last)",
      "\u001b[0;32m<ipython-input-92-d8859fbd77fb>\u001b[0m in \u001b[0;36m<module>\u001b[0;34m\u001b[0m\n\u001b[1;32m      1\u001b[0m \u001b[0morder\u001b[0m\u001b[0;34m=\u001b[0m\u001b[0mnp\u001b[0m\u001b[0;34m.\u001b[0m\u001b[0margsort\u001b[0m\u001b[0;34m(\u001b[0m\u001b[0mpredicted_svm_proba\u001b[0m\u001b[0;34m,\u001b[0m \u001b[0maxis\u001b[0m\u001b[0;34m=\u001b[0m\u001b[0;36m1\u001b[0m\u001b[0;34m)\u001b[0m\u001b[0;34m\u001b[0m\u001b[0;34m\u001b[0m\u001b[0m\n\u001b[1;32m      2\u001b[0m \u001b[0morder\u001b[0m\u001b[0;34m.\u001b[0m\u001b[0mshape\u001b[0m\u001b[0;34m\u001b[0m\u001b[0;34m\u001b[0m\u001b[0m\n\u001b[0;32m----> 3\u001b[0;31m \u001b[0mprint\u001b[0m\u001b[0;34m(\u001b[0m \u001b[0mpredicted_svm_proba\u001b[0m\u001b[0;34m(\u001b[0m\u001b[0mnp\u001b[0m\u001b[0;34m.\u001b[0m\u001b[0margsort\u001b[0m\u001b[0;34m(\u001b[0m\u001b[0mpredicted_svm_proba\u001b[0m\u001b[0;34m[\u001b[0m\u001b[0;34m:\u001b[0m\u001b[0;34m,\u001b[0m \u001b[0;34m-\u001b[0m\u001b[0;36m1\u001b[0m\u001b[0;34m]\u001b[0m \u001b[0;34m)\u001b[0m\u001b[0;34m)\u001b[0m\u001b[0;34m)\u001b[0m\u001b[0;34m\u001b[0m\u001b[0;34m\u001b[0m\u001b[0m\n\u001b[0m",
      "\u001b[0;31mTypeError\u001b[0m: 'numpy.ndarray' object is not callable"
     ]
    }
   ],
   "source": [
    "order=np.argsort(predicted_svm_proba, axis=1)\n",
    "order.shape\n",
    "print( predicted_svm_proba[))\n"
   ]
  },
  {
   "cell_type": "code",
   "execution_count": 104,
   "metadata": {},
   "outputs": [],
   "source": [
    "processed_data=processed_data[processed_data[\"user_type\"]==0].assign(predicted_svm_proba=predicted_svm_proba[:, -1])"
   ]
  },
  {
   "cell_type": "code",
   "execution_count": 105,
   "metadata": {},
   "outputs": [
    {
     "data": {
      "text/plain": [
       "0        0.356313\n",
       "1        0.356731\n",
       "2        0.356535\n",
       "3        0.356736\n",
       "4        0.356447\n",
       "5        0.356861\n",
       "6        0.356108\n",
       "7        0.355982\n",
       "8        0.356636\n",
       "9        0.356790\n",
       "10       0.356203\n",
       "11       0.356380\n",
       "12       0.356303\n",
       "13       0.356244\n",
       "14       0.356323\n",
       "15       0.356761\n",
       "16       0.356366\n",
       "17       0.356472\n",
       "20       0.356381\n",
       "21       0.356376\n",
       "22       0.356394\n",
       "23       0.356428\n",
       "24       0.356800\n",
       "25       0.356563\n",
       "26       0.356336\n",
       "27       0.356543\n",
       "28       0.356487\n",
       "29       0.356800\n",
       "30       0.356219\n",
       "31       0.356090\n",
       "           ...   \n",
       "36830    0.356496\n",
       "36831    0.356614\n",
       "36832    0.356653\n",
       "36833    0.356203\n",
       "36834    0.356416\n",
       "36835    0.356595\n",
       "36836    0.356337\n",
       "36837    0.356058\n",
       "36838    0.356090\n",
       "36839    0.356005\n",
       "36840    0.356227\n",
       "36841    0.356421\n",
       "36842    0.356423\n",
       "36843    0.356761\n",
       "36844    0.356032\n",
       "36845    0.356108\n",
       "36846    0.355970\n",
       "36847    0.356244\n",
       "36848    0.356244\n",
       "36849    0.355946\n",
       "36850    0.356800\n",
       "36851    0.356272\n",
       "36852    0.356603\n",
       "36853    0.356603\n",
       "36854    0.356603\n",
       "36855    0.356476\n",
       "36856    0.356763\n",
       "36857    0.356006\n",
       "36858    0.356658\n",
       "36859    0.356800\n",
       "Name: predicted_svm_proba, Length: 36841, dtype: float64"
      ]
     },
     "execution_count": 105,
     "metadata": {},
     "output_type": "execute_result"
    }
   ],
   "source": [
    "processed_data[processed_data[\"user_type\"]==0][\"predicted_svm_proba\"]"
   ]
  },
  {
   "cell_type": "code",
   "execution_count": 46,
   "metadata": {},
   "outputs": [
    {
     "data": {
      "text/plain": [
       "36841"
      ]
     },
     "execution_count": 46,
     "metadata": {},
     "output_type": "execute_result"
    }
   ],
   "source": [
    "len(processed_data[processed_data[\"user_type\"]==0].tweet)"
   ]
  },
  {
   "cell_type": "markdown",
   "metadata": {},
   "source": [
    "### User type:\n",
    "### 1 : current customers of Mercedes-Benz who own a Mercedes product  "
   ]
  },
  {
   "cell_type": "code",
   "execution_count": 66,
   "metadata": {},
   "outputs": [
    {
     "data": {
      "text/plain": [
       "1        Posted @withrepost • @mercedesbenz_de Der perf...\n",
       "6        A 4000 year history of the turban, from Mesopo...\n",
       "7        S. Africa’s first black female fighter pilot t...\n",
       "10       Мөнгөтэй аниа бна уу ? Хэсэг явалдаад ганц #Me...\n",
       "12       Check out this video following a previous pres...\n",
       "14       Happy Memorial Day 🇺🇸 Today & every day we hon...\n",
       "15       The Best Or Nothing...  #GLE #MercedesBenz 📸//...\n",
       "23       £14,595 + VAT for a BRAND NEW #MercedesBenz #V...\n",
       "24       خصائص الراحة المتوفرة في الفئة GLC ستجعل كل رح...\n",
       "29       EQCめちゃいいな。 #MercedesBenz  pic.twitter.com/Bhaj...\n",
       "30       Here's sweet start to your driving experience....\n",
       "34       Details matter. 🌟 #MercedesBenz #MercedesAMG #...\n",
       "36       2009 Mercedes Benz ML350 For Sale. Contact/Wha...\n",
       "37       Yeni bir haftaya Pazartesi ile başlangıç yapar...\n",
       "40       @LewisHamilton took his 77th career victory, h...\n",
       "45       Are you ready to be #Purplized?  #MykonosvIbiz...\n",
       "46       Beast mode on!   #MykonosvIbiza #Gumball3000 #...\n",
       "49       Check out this video following a previous pres...\n",
       "52       Ese momento en el que empiezas a ver por las c...\n",
       "54       A #MercedesBenz dealer in Xi'an has been fined...\n",
       "55       #MercedesBenz recalls 44,900 of its imported a...\n",
       "56       A #MercedesBenz dealer in Xi'an has been fined...\n",
       "63       🔈🔈 Mercedes GLA por 320€/mes es el SUV que qui...\n",
       "64       Bojan aus #Winterthur möchte eine Reparaturoff...\n",
       "65       #MercedesBenz #CLS CLS-Klasse C257 2018 #model...\n",
       "67       Arsim aus #Altendorf möchte eine Reparaturoffe...\n",
       "69       Wishing all of our clients and followers a won...\n",
       "74       È il momento di caricare le batterie!🔌😄 #eCita...\n",
       "77       The new #MercedesBenz #GLS on a test drive in ...\n",
       "79       TAEVision #3D #Mechanical #Design 📹 #MercedesB...\n",
       "                               ...                        \n",
       "36789    ⚡️ TAEVision #Engineering - Scene Jan 15, 2019...\n",
       "36790    Check out 8 Matchbox Collectibles Coca-Cola Co...\n",
       "36791    I don't care if it is Ciceley Commercials Ltd ...\n",
       "36792    TAEVision #Engineering #3D #Design Scenes Stat...\n",
       "36798    What3Words breaks the world down into phrases ...\n",
       "36801    Any weather will do. Classic cars are meant to...\n",
       "36805    MERCEDES-BENZ E 350 BlueTEC 4Matic Premium IVA...\n",
       "36806    MERCEDES-BENZ CLA 200 d SHOOTING BRAKE S.W. 4M...\n",
       "36807    MERCEDES-BENZ C 220 CDI Coupé Avantgarde PERMU...\n",
       "36811    Who knows what model vehicle this #BrilliantBl...\n",
       "36813    Early morning drives with the stunning Mercede...\n",
       "36817    The #MercedesBenz Certified Pre-Owned Sales Ev...\n",
       "36819    1968 Mercedes-Benz 280 SL Pagode - Cabriolet, ...\n",
       "36820    Mercedes Benz CLS 400 d 4Matic AMG #MercedesBe...\n",
       "36822    #MyDreamcar  The New #CLS : Third Generation O...\n",
       "36826    We have some incredible offers this month!  ht...\n",
       "36827    Leider gerade keine Kamera am #Fahrrad gehabt....\n",
       "36828    MERCEDES-BENZ A 180 CDI Coupé Avantgarde \"UNIC...\n",
       "36830    See our Trend Model Vehicles for SALE! 1️⃣NEW ...\n",
       "36832    Winter fun ❄️ with the @MercedesAMG S 63 4MATI...\n",
       "36833    EMS Waste Services Ltd currently have this #me...\n",
       "36836    The most effective way to immediately improve ...\n",
       "36839    With Anja Gockel & Nicki Hodolik 💞🌟💞#FashionWe...\n",
       "36840    CLA’s.and SLC’s are ready for spring! Get your...\n",
       "36841    VIP GROUP EXCLUSIVE  ZERO deposit £589.99 per ...\n",
       "36843    #10yearchallenge #MercedesBenz THE BEST OR NOT...\n",
       "36850            #MercedesBenz  pic.twitter.com/X9F8xXIKFh\n",
       "36855    #MercedesBenz #Vito 114 BlueTEC 2.1 Long Panel...\n",
       "36856    what gives you goosebumps??😍 #mercedesbenz #AM...\n",
       "36859    東京オートサロン2019 MercedesBenzブース：美すずさん(@misuzuchan...\n",
       "Name: tweet, Length: 15471, dtype: object"
      ]
     },
     "execution_count": 66,
     "metadata": {},
     "output_type": "execute_result"
    }
   ],
   "source": [
    "processed_data[processed_data[\"user_type\"]==0][nb_predicted==1].tweet"
   ]
  },
  {
   "cell_type": "markdown",
   "metadata": {},
   "source": [
    "### 2 : prospective customers interested in buying a Mercedes  \n"
   ]
  },
  {
   "cell_type": "code",
   "execution_count": 69,
   "metadata": {},
   "outputs": [
    {
     "data": {
      "text/plain": [
       "0        In celebration and remembrance of America's fa...\n",
       "2        Mercedes-Benz - E63 AMG  #E63 #E63AMG #63AMG #...\n",
       "3        Take a look at this #Unrecorded #MercedesBenzA...\n",
       "4        #mercedesbenz #OH #O404 #classic #BusinThailan...\n",
       "5        A lightning strike did this... Credit: liketo_...\n",
       "8        #Bmw Thank Former Mercedes-Benz #Ceo Dieter Ze...\n",
       "9        #g63 #amg #Mercedes #MercedesBenz #MercedesAMG...\n",
       "11       #Zonda #AMG #W140 #V12 #AMG #600SEL #S600 #M12...\n",
       "13       RT @MercedesBenz: The new #MercedesBenz #GLS o...\n",
       "16       Grateful to all that have served.  #thankful #...\n",
       "17       #mercedes #mercedes_amg #sonydeutschland #pixt...\n",
       "20       \"Mercedes-Benz ESF 2019 Envisions Safe Future ...\n",
       "21       ⏩ ⏩ 🚍🚌#BomDia #UniaoTransporteBrasilia #UTB #M...\n",
       "22       It's now or never! Get the Mercedes-Benz CLA 2...\n",
       "25       #Repost gorden.wagener (get_repost) ・・・ Our gl...\n",
       "26       ⚡️ TAEVision #Engineering on @tumblr #tumblr -...\n",
       "27       Dachser integrates the fully-electric 18-tonne...\n",
       "28       The Mercedes-Benz W212 E class excels in heedi...\n",
       "31       Mercedes C-Class filters & oil change. . . . ....\n",
       "32       #finestcarspraha #gtechniq #cardetailing #auto...\n",
       "33       The aggressive Mercedes Benz AMG GTR This thin...\n",
       "35       RACING TIME 🚗 #mercedes #amg #mercedesbenz #mb...\n",
       "38       I like this. It's got a sophistication about i...\n",
       "39       #GPTS in Stockholm: Mercedes Benz zeigt den #e...\n",
       "41       Parfait 🔥🔥🔥 #SLC #Roadster #Cabriolet #Mercede...\n",
       "42       #MercedesBenz #G63 #AMG #6x6 #Extravagant #Ext...\n",
       "43       #V12 #V12vantage #M120 #600SEL #SEL #S600 #SCl...\n",
       "44       #Troyes #ClasseS #Mercedes #Benz #MercedesBenz...\n",
       "47       Asi arranca la semana en @infinituscb con este...\n",
       "48       German Design  #new #brandnew #car #cars #auto...\n",
       "                               ...                        \n",
       "36809    MERCEDES-BENZ GLC 220 d 4Matic Premium 44.900 ...\n",
       "36810    MERCEDES-BENZ A 160 CDI Sport 17.700 €   http:...\n",
       "36812    #MercedesBenz ya prepara el EQB, un segundo SU...\n",
       "36814    Susann is with the @MercedesBenz Vans team for...\n",
       "36815    Dopo un po' di attesa finalmente Antonio ritir...\n",
       "36816    🚍🚌#BoaTarde urbimobilidade #Urbi #UrbiMobilida...\n",
       "36818    This 300SL-24 leaves d:class with a new German...\n",
       "36821    Our car inventory  is waiting for you !! 🚗🚗🚗🚗🚗...\n",
       "36823    MERCEDES-BENZ GLC 220 d 4Matic Sport Automatic...\n",
       "36824    MERCEDES-BENZ GLA 220 CDI Automatic 4Matic Pre...\n",
       "36825    Novi Mercedes-Benzovi modeli GLE dizlaša već s...\n",
       "36829    Blue is the colour football is the game . . . ...\n",
       "36831    Two #cars set #MAN 635 #Renntransporter und #M...\n",
       "36834    🔵#repuestosdecalidad 👉 Encuentra estos y mucho...\n",
       "36835    Conquer your Monday morning commute with confi...\n",
       "36837    We will service your second car - Even if it i...\n",
       "36838    #DTF #Checks in with #New-generation ... More:...\n",
       "36842    Another Mercedes Benz GLA200 AMG line ready & ...\n",
       "36844    Comil Campione HD 4.05 Mercedes-Benz Pullman J...\n",
       "36845    ZRH Montage 😎🤪 _______________________________...\n",
       "36846    Android unit installation on A Class. #mercede...\n",
       "36847    Collectors Super Car. Mercedes Benz SLS AMG GU...\n",
       "36848    Collectors Super Car. Mercedes Benz SLS AMG GU...\n",
       "36849    Needs a wash but a long weekend down in deep, ...\n",
       "36851    Very successful executive #MercedesBenz200 pro...\n",
       "36852    Mercedes Benz FInd the full video @  https://w...\n",
       "36853    Mercedes Benz History FInd the full video @  h...\n",
       "36854    Mercedes Benz Archive FInd the full video @  h...\n",
       "36857    #荒木飛呂彦原画展jojo冒険の波紋 と#メルセデスベンツ がコラボした#ドドドカー ！#メ...\n",
       "36858    Starting our week #europeancars #audi #mercede...\n",
       "Name: tweet, Length: 21365, dtype: object"
      ]
     },
     "execution_count": 69,
     "metadata": {},
     "output_type": "execute_result"
    }
   ],
   "source": [
    "processed_data[processed_data[\"user_type\"]==0][nb_predicted==2].tweet"
   ]
  },
  {
   "cell_type": "code",
   "execution_count": 111,
   "metadata": {},
   "outputs": [
    {
     "data": {
      "text/plain": [
       "2931     The distinctively styled #MercedesBenz SLS AMG...\n",
       "30892    Taz’s first proper clean 🧽 🧼 🚘✨ Since the snow...\n",
       "30893    Taz’s first proper clean 🧽 🧼 🚘✨ Since the snow...\n",
       "15538    the coolest, cutest car ads ever~! 🤔🧐😎 #KrisWu...\n",
       "32351    Had the pleasure of this @MercedesAMG E63s tod...\n",
       "13081    Build one of the most beautiful cars ever made...\n",
       "8554     The perfect companion for summer along the Fre...\n",
       "10308    Underneath the skin of the new #MercedesBenz E...\n",
       "15463    I upgraded, love this car!!#mercedesbenz  pic....\n",
       "476      Mercedes-Amg GT Coupe 4 #mercedesbenz #MBmille...\n",
       "3347     Everything ready! Gleich gehts los. #SwissMark...\n",
       "8638     Will This ’93 Cobra R Be the New Priciest Fox-...\n",
       "30660    is this a beauty? #MercedesBenz #Mercedes #Car...\n",
       "26485    What about this other beauty? #MercedesBenz  p...\n",
       "25453    The Mercedes EQ, is this the future of the Ger...\n",
       "21180    @MrJamesMay @JeremyClarkson @RichardHammond dr...\n",
       "8926     1929 #MercedesBenz SSK  #supercar #classiccar ...\n",
       "25402    The most beautiful car ever .  Sc 300 1956  @M...\n",
       "12300    We're celebrating the iconic 1999 #MercedesBen...\n",
       "9356     190E EVO I #autohausaz #auto #autos #car #cars...\n",
       "15664    2019 C 63 S Cabriolet.  This is one serious co...\n",
       "15663    2019 C 63 S Cabriolet.  This is one serious co...\n",
       "27306    Electrify the city. The smart fortwo electric ...\n",
       "12638    #mercedes #benz #mercedesbenz #mercedesamg #am...\n",
       "1235     The G63 through the night 🌝 . [Csn : 13.1 I/10...\n",
       "34965    Imports of commercial vehicles fell last month...\n",
       "6180     #AUDI #RS7 where the road ends, the fun begins...\n",
       "10821    Came and see our unique #MercedesBenz Classic ...\n",
       "25708    @SpencerMatthews @JamieLaing_UK @E4Chelsea wha...\n",
       "20484    Calais : Devant le Beffroi, ce magnifique Cita...\n",
       "                               ...                        \n",
       "6876     Thanh Minh aus #WünnewilFlamatt möchte eine Re...\n",
       "3885     Jacqueline hat die Offerte von REPMASTER - Aut...\n",
       "25238    🙏🏾 Thank you mercedesbenzusa for hosting us at...\n",
       "8406     Dear @MercedesBenz, you build fantastic cars, ...\n",
       "18224    Pay over £20k for a exdisplay Mercedes from yo...\n",
       "6411     ⁦@MercedesBenzUSA⁩ wants to give you a ⁦#Merce...\n",
       "21245    #mercedesbenz #eqc #electric #suv deliveries o...\n",
       "12731    #MercedesBenzUSA #MercedesBenz @MercedesBenzUS...\n",
       "30851    Updated radio for a 03 Mercedes Benz ML350 wit...\n",
       "22755    Blocks for sale! All our components are tested...\n",
       "17827    #Repost @naughty_cutiey •  •  •  •  • How many...\n",
       "25182    7th November 2017  #25YearsOfMercedes #Contest...\n",
       "32828    Bye long weekend, you were brief but nice as a...\n",
       "30473    @MercedesBenzUSA @MercedesBenz FYI —- Anyone p...\n",
       "32376    2019 Mercedes GLS450 (Gas / Petrol) from USA. ...\n",
       "4479     #MercedesBenzUSA #MercedesBenz @Daimler @Merce...\n",
       "27466    Replaced my @densoautoparts Iridium Power plug...\n",
       "16244    Shout out to Rick in the Service Dept at  #Mer...\n",
       "12596    #MercedesBenz #MercedesBenzUSA #Daimler #Merce...\n",
       "31133    @MercedesBenzUSA - not sure why you had to hat...\n",
       "27446    Still impressed with how great the brushed ste...\n",
       "31381    That's crazy how me and her are obsessed with ...\n",
       "18968         @MercedesBenzUSA  in love with #mercedesBenz\n",
       "16778    #MercedesMeAppSucks #MercedesBenz @MercedesBen...\n",
       "5960     Anyone planning to buy #MercedesBenz pls think...\n",
       "11978    @MercedesBenz @MercedesBenzUSA #MercedesBenz @...\n",
       "6234     Silver Arrow Mercedes Benz service ... Worst e...\n",
       "24641    With my girl @mscrystalwillis at the mercedesb...\n",
       "17954    @MercedesBenz #MercedesBenzUSA @MercedesBenzUS...\n",
       "14400    #MercedesBenz is suing 4 #artists whose #mural...\n",
       "Name: tweet, Length: 28985, dtype: object"
      ]
     },
     "execution_count": 111,
     "metadata": {},
     "output_type": "execute_result"
    }
   ],
   "source": [
    "processed_data[processed_data[\"user_type\"]==0].sort_values(\"predicted_svm_proba\", ascending=False)[predicted_svm==2].tweet"
   ]
  },
  {
   "cell_type": "markdown",
   "metadata": {},
   "source": [
    "### 3 : churners who have abandoned Mercedes-Benz or are about to  "
   ]
  },
  {
   "cell_type": "code",
   "execution_count": 68,
   "metadata": {},
   "outputs": [
    {
     "data": {
      "text/plain": [
       "11978    @MercedesBenz @MercedesBenzUSA #MercedesBenz @...\n",
       "14400    #MercedesBenz is suing 4 #artists whose #mural...\n",
       "14826    @MercedesBenzUSA #MercedesBenzUSA #MercedesBen...\n",
       "16778    #MercedesMeAppSucks #MercedesBenz @MercedesBen...\n",
       "17954    @MercedesBenz #MercedesBenzUSA @MercedesBenzUS...\n",
       "Name: tweet, dtype: object"
      ]
     },
     "execution_count": 68,
     "metadata": {},
     "output_type": "execute_result"
    }
   ],
   "source": [
    "processed_data[processed_data[\"user_type\"]==0][nb_predicted==3].tweet"
   ]
  },
  {
   "cell_type": "code",
   "execution_count": 112,
   "metadata": {},
   "outputs": [
    {
     "data": {
      "text/plain": [
       "Series([], Name: tweet, dtype: object)"
      ]
     },
     "execution_count": 112,
     "metadata": {},
     "output_type": "execute_result"
    }
   ],
   "source": []
  }
 ],
 "metadata": {
  "kernelspec": {
   "display_name": "Python 3",
   "language": "python",
   "name": "python3"
  },
  "language_info": {
   "codemirror_mode": {
    "name": "ipython",
    "version": 3
   },
   "file_extension": ".py",
   "mimetype": "text/x-python",
   "name": "python",
   "nbconvert_exporter": "python",
   "pygments_lexer": "ipython3",
   "version": "3.7.3"
  }
 },
 "nbformat": 4,
 "nbformat_minor": 2
}
